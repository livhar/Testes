{
  "nbformat": 4,
  "nbformat_minor": 0,
  "metadata": {
    "colab": {
      "name": "TestesBV.ipynb",
      "provenance": [],
      "collapsed_sections": []
    },
    "kernelspec": {
      "name": "python3",
      "display_name": "Python 3"
    },
    "language_info": {
      "name": "python"
    }
  },
  "cells": [
    {
      "cell_type": "code",
      "metadata": {
        "id": "57RYCfbUJZ3c"
      },
      "source": [
        "from datetime import datetime, timedelta, date\n",
        "from dateutil import relativedelta"
      ],
      "execution_count": 16,
      "outputs": []
    },
    {
      "cell_type": "code",
      "metadata": {
        "id": "weeivF7JJtLq"
      },
      "source": [
        "def last_day_of_month(date):\n",
        "    if date.month == 12:\n",
        "        return date.replace(day=31)\n",
        "    return date.replace(month=date.month+1, day =1) - timedelta(days=1)"
      ],
      "execution_count": 2,
      "outputs": []
    },
    {
      "cell_type": "code",
      "source": [
        "today = date.today()\n",
        "print(today)\n",
        "year = today.year\n",
        "print(year)\n",
        "month = today.month\n",
        "print(month)\n",
        "day = today.day\n",
        "print(day)\n"
      ],
      "metadata": {
        "colab": {
          "base_uri": "https://localhost:8080/"
        },
        "id": "6avUohjyGbyR",
        "outputId": "437cca0b-71fc-4d8b-86b5-fe74aa46dff0"
      },
      "execution_count": 9,
      "outputs": [
        {
          "output_type": "stream",
          "name": "stdout",
          "text": [
            "2022-04-01\n",
            "2022\n",
            "4\n",
            "1\n"
          ]
        }
      ]
    },
    {
      "cell_type": "code",
      "source": [
        "teste = datetime(year, month, day)\n",
        "print(teste)"
      ],
      "metadata": {
        "colab": {
          "base_uri": "https://localhost:8080/"
        },
        "id": "J-qcbMdiIxcD",
        "outputId": "71495366-30ce-453c-a092-9909956d6735"
      },
      "execution_count": 13,
      "outputs": [
        {
          "output_type": "stream",
          "name": "stdout",
          "text": [
            "2022-04-01 00:00:00\n"
          ]
        }
      ]
    },
    {
      "cell_type": "code",
      "source": [
        "teste2 = datetime(year, month, day).date()\n",
        "print(teste2)"
      ],
      "metadata": {
        "colab": {
          "base_uri": "https://localhost:8080/"
        },
        "id": "rouNA7_CI8aG",
        "outputId": "18de735c-d781-4413-93c3-d5e6f5f048e8"
      },
      "execution_count": 14,
      "outputs": [
        {
          "output_type": "stream",
          "name": "stdout",
          "text": [
            "2022-04-01\n"
          ]
        }
      ]
    },
    {
      "cell_type": "code",
      "source": [
        "#Pega o ultimo dia do mês\n",
        "DT_FINAL = last_day_of_month(datetime(year, month, day)).date()\n",
        "print(DT_FINAL)"
      ],
      "metadata": {
        "colab": {
          "base_uri": "https://localhost:8080/"
        },
        "id": "nE4h_SzKIR25",
        "outputId": "c1a5c725-6358-473f-ea00-ff04df65e94e"
      },
      "execution_count": 10,
      "outputs": [
        {
          "output_type": "stream",
          "name": "stdout",
          "text": [
            "2022-04-30\n"
          ]
        }
      ]
    },
    {
      "cell_type": "code",
      "source": [
        "#Pega o primeiro dia do mês \n",
        "DT_INICIAL = today + relativedelta.relativedelta(month=0, day=1)\n",
        "print(DT_INICIAL)"
      ],
      "metadata": {
        "colab": {
          "base_uri": "https://localhost:8080/"
        },
        "id": "-n-jNaucJTcv",
        "outputId": "5d0b8d89-3c57-442a-e739-f5abcae07e10"
      },
      "execution_count": 17,
      "outputs": [
        {
          "output_type": "stream",
          "name": "stdout",
          "text": [
            "2022-04-01\n"
          ]
        }
      ]
    },
    {
      "cell_type": "code",
      "source": [
        "#Pega ano e mes \n",
        "SAFRA = today.strftime('%Y%m')\n",
        "print(SAFRA)"
      ],
      "metadata": {
        "colab": {
          "base_uri": "https://localhost:8080/"
        },
        "id": "tS8rSZQQJ0tB",
        "outputId": "bf01cb26-7bf7-4a1d-876d-736996ba4ffe"
      },
      "execution_count": 19,
      "outputs": [
        {
          "output_type": "stream",
          "name": "stdout",
          "text": [
            "202204\n"
          ]
        }
      ]
    }
  ]
}